{
 "cells": [
  {
   "cell_type": "code",
   "execution_count": 3,
   "metadata": {},
   "outputs": [
    {
     "data": {
      "text/html": [
       "<div>\n",
       "<style scoped>\n",
       "    .dataframe tbody tr th:only-of-type {\n",
       "        vertical-align: middle;\n",
       "    }\n",
       "\n",
       "    .dataframe tbody tr th {\n",
       "        vertical-align: top;\n",
       "    }\n",
       "\n",
       "    .dataframe thead th {\n",
       "        text-align: right;\n",
       "    }\n",
       "</style>\n",
       "<table border=\"1\" class=\"dataframe\">\n",
       "  <thead>\n",
       "    <tr style=\"text-align: right;\">\n",
       "      <th></th>\n",
       "      <th>Title</th>\n",
       "      <th>First Name</th>\n",
       "      <th>Last Name</th>\n",
       "    </tr>\n",
       "    <tr>\n",
       "      <th>email</th>\n",
       "      <th></th>\n",
       "      <th></th>\n",
       "      <th></th>\n",
       "    </tr>\n",
       "  </thead>\n",
       "  <tbody>\n",
       "    <tr>\n",
       "      <th>arjunpanwar282001@gmail.com</th>\n",
       "      <td>Mr.</td>\n",
       "      <td>Arjun</td>\n",
       "      <td>Panwar</td>\n",
       "    </tr>\n",
       "    <tr>\n",
       "      <th>arjunpanwar28oct2001@gmail.com</th>\n",
       "      <td>Mr.</td>\n",
       "      <td>Badal</td>\n",
       "      <td>Panwar</td>\n",
       "    </tr>\n",
       "    <tr>\n",
       "      <th>arjunpanwar28oct2001@gmail.com</th>\n",
       "      <td>Dr.</td>\n",
       "      <td>Meenakshi</td>\n",
       "      <td>Sridhar</td>\n",
       "    </tr>\n",
       "    <tr>\n",
       "      <th>arjunpanwar@earthrootfoundation.org</th>\n",
       "      <td>E-Cell</td>\n",
       "      <td>Rajdhani</td>\n",
       "      <td>College</td>\n",
       "    </tr>\n",
       "  </tbody>\n",
       "</table>\n",
       "</div>"
      ],
      "text/plain": [
       "                                       Title First Name Last Name\n",
       "email                                                            \n",
       "arjunpanwar282001@gmail.com              Mr.      Arjun    Panwar\n",
       "arjunpanwar28oct2001@gmail.com           Mr.      Badal    Panwar\n",
       "arjunpanwar28oct2001@gmail.com           Dr.  Meenakshi   Sridhar\n",
       "arjunpanwar@earthrootfoundation.org  E-Cell   Rajdhani    College"
      ]
     },
     "execution_count": 3,
     "metadata": {},
     "output_type": "execute_result"
    }
   ],
   "source": [
    "import pandas as pd\n",
    "df = pd.read_csv('list.csv')\n",
    "emaillst=df['email'].values.tolist()\n",
    "df.set_index(\"email\", inplace=True)\n",
    "df.head()"
   ]
  },
  {
   "cell_type": "code",
   "execution_count": 8,
   "metadata": {},
   "outputs": [
    {
     "name": "stdout",
     "output_type": "stream",
     "text": [
      "1 Arjun\n",
      "2 email\n",
      "arjunpanwar28oct2001@gmail.com        Badal\n",
      "arjunpanwar28oct2001@gmail.com    Meenakshi\n",
      "Name: First Name, dtype: object\n",
      "3 email\n",
      "arjunpanwar28oct2001@gmail.com        Badal\n",
      "arjunpanwar28oct2001@gmail.com    Meenakshi\n",
      "Name: First Name, dtype: object\n",
      "4 Rajdhani \n"
     ]
    }
   ],
   "source": [
    "i=1\n",
    "for email in emaillst:\n",
    "   \n",
    "    a=df[\"First Name\"][email]\n",
    "    print(i,a)\n",
    "    i+=1\n",
    "#name=df.Title[email]+\" \"+df[\"First Name\"][email]+\" \"+df[\"Last Name\"][email]"
   ]
  },
  {
   "cell_type": "code",
   "execution_count": 46,
   "metadata": {},
   "outputs": [
    {
     "data": {
      "text/html": [
       "<div>\n",
       "<style scoped>\n",
       "    .dataframe tbody tr th:only-of-type {\n",
       "        vertical-align: middle;\n",
       "    }\n",
       "\n",
       "    .dataframe tbody tr th {\n",
       "        vertical-align: top;\n",
       "    }\n",
       "\n",
       "    .dataframe thead th {\n",
       "        text-align: right;\n",
       "    }\n",
       "</style>\n",
       "<table border=\"1\" class=\"dataframe\">\n",
       "  <thead>\n",
       "    <tr style=\"text-align: right;\">\n",
       "      <th></th>\n",
       "      <th>Title</th>\n",
       "      <th>First Name</th>\n",
       "      <th>Last Name</th>\n",
       "    </tr>\n",
       "    <tr>\n",
       "      <th>email</th>\n",
       "      <th></th>\n",
       "      <th></th>\n",
       "      <th></th>\n",
       "    </tr>\n",
       "  </thead>\n",
       "  <tbody>\n",
       "    <tr>\n",
       "      <th>arjunpanwar28oct2001@gmail.com</th>\n",
       "      <td>Mr.</td>\n",
       "      <td>Badal</td>\n",
       "      <td>Panwar</td>\n",
       "    </tr>\n",
       "    <tr>\n",
       "      <th>arjunpanwar28oct2001@gmail.com</th>\n",
       "      <td>Dr.</td>\n",
       "      <td>Meenakshi</td>\n",
       "      <td>Sridhar</td>\n",
       "    </tr>\n",
       "    <tr>\n",
       "      <th>arjunpanwar@earthrootfoundation.org</th>\n",
       "      <td>E-Cell</td>\n",
       "      <td>Rajdhani</td>\n",
       "      <td>College</td>\n",
       "    </tr>\n",
       "  </tbody>\n",
       "</table>\n",
       "</div>"
      ],
      "text/plain": [
       "                                       Title First Name Last Name\n",
       "email                                                            \n",
       "arjunpanwar28oct2001@gmail.com           Mr.      Badal    Panwar\n",
       "arjunpanwar28oct2001@gmail.com           Dr.  Meenakshi   Sridhar\n",
       "arjunpanwar@earthrootfoundation.org  E-Cell   Rajdhani    College"
      ]
     },
     "execution_count": 46,
     "metadata": {},
     "output_type": "execute_result"
    }
   ],
   "source": [
    "df[1:]"
   ]
  },
  {
   "cell_type": "code",
   "execution_count": null,
   "metadata": {},
   "outputs": [],
   "source": []
  }
 ],
 "metadata": {
  "kernelspec": {
   "display_name": "Python 3",
   "language": "python",
   "name": "python3"
  }
 },
 "nbformat": 4,
 "nbformat_minor": 2
}
